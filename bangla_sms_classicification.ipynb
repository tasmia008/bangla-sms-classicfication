{
  "nbformat": 4,
  "nbformat_minor": 0,
  "metadata": {
    "colab": {
      "provenance": [],
      "include_colab_link": true
    },
    "kernelspec": {
      "name": "python3",
      "display_name": "Python 3"
    },
    "language_info": {
      "name": "python"
    }
  },
  "cells": [
    {
      "cell_type": "markdown",
      "metadata": {
        "id": "view-in-github",
        "colab_type": "text"
      },
      "source": [
        "<a href=\"https://colab.research.google.com/github/tasmia008/bangla-sms-classicfication/blob/main/bangla_sms_classicification.ipynb\" target=\"_parent\"><img src=\"https://colab.research.google.com/assets/colab-badge.svg\" alt=\"Open In Colab\"/></a>"
      ]
    },
    {
      "cell_type": "code",
      "execution_count": null,
      "metadata": {
        "id": "cXgJxVNa_sUD"
      },
      "outputs": [],
      "source": [
        "import os\n",
        "import nltk\n",
        "import pandas\n",
        "import re"
      ]
    },
    {
      "cell_type": "code",
      "source": [
        "import pandas as pd"
      ],
      "metadata": {
        "id": "1dNLgfqgE9du"
      },
      "execution_count": null,
      "outputs": []
    },
    {
      "cell_type": "code",
      "source": [
        "df=pd.read_csv('/content/data-set - Sheet1.csv')"
      ],
      "metadata": {
        "id": "M3lszr-JE0f3"
      },
      "execution_count": null,
      "outputs": []
    },
    {
      "cell_type": "code",
      "source": [
        "df"
      ],
      "metadata": {
        "colab": {
          "base_uri": "https://localhost:8080/",
          "height": 423
        },
        "id": "sIDHFDolE8he",
        "outputId": "e07a616e-23ca-4a88-86e0-99f337d5e97c"
      },
      "execution_count": null,
      "outputs": [
        {
          "output_type": "execute_result",
          "data": {
            "text/plain": [
              "                                                 daily    Type\n",
              "0                                   ৭.৫জিবি ৭৬৳ (৩দিন)    Good\n",
              "1                                 ১.৪জিবি ৩৮৳, (৩দিন)।    Best\n",
              "2    ২GB ৫০মি ৩দিন ৩৬Tk রিচার্জে বা *123*036*1# বিক...    Best\n",
              "3    আজ ৪GB +৫০Min +২৫SMS ৫দিন পাবেন ৫৮Tk এয়ারটেলে ...  Better\n",
              "4            ১.৫GB ৫০মি ৩দিন আজ ৩৬Tk এয়ারটেল বা বিকাশ…    Best\n",
              "..                                                 ...     ...\n",
              "504     বোনাস সহ ৯জিবি-১১০টাকা-৩০দিন। ডায়াল *১২১*৫০৭২#  Better\n",
              "505  বোনাস সহ ৩জিবি-৩০দিন-৩১টাকা নিতে আজই ডায়াল *১২...  Better\n",
              "506    বোনাস সহ ৩৫জিবি-৩৫০টাকা-৩০দিন। ডায়াল *১২১*৫১০২#  Better\n",
              "507  ৩০দিন মেয়াদে ১৫জিবি মাত্র ১৭০ টাকা! ভিজিট MyGP...    Best\n",
              "508     বোনাস সহ ৯জিবি+২০০মিনিট ১৬৮টাকা (মেয়াদ ৩০দিন)।  Better\n",
              "\n",
              "[509 rows x 2 columns]"
            ],
            "text/html": [
              "\n",
              "  <div id=\"df-63300bf8-f42f-4c86-b8e4-54eb29df7cd8\">\n",
              "    <div class=\"colab-df-container\">\n",
              "      <div>\n",
              "<style scoped>\n",
              "    .dataframe tbody tr th:only-of-type {\n",
              "        vertical-align: middle;\n",
              "    }\n",
              "\n",
              "    .dataframe tbody tr th {\n",
              "        vertical-align: top;\n",
              "    }\n",
              "\n",
              "    .dataframe thead th {\n",
              "        text-align: right;\n",
              "    }\n",
              "</style>\n",
              "<table border=\"1\" class=\"dataframe\">\n",
              "  <thead>\n",
              "    <tr style=\"text-align: right;\">\n",
              "      <th></th>\n",
              "      <th>daily</th>\n",
              "      <th>Type</th>\n",
              "    </tr>\n",
              "  </thead>\n",
              "  <tbody>\n",
              "    <tr>\n",
              "      <th>0</th>\n",
              "      <td>৭.৫জিবি ৭৬৳ (৩দিন)</td>\n",
              "      <td>Good</td>\n",
              "    </tr>\n",
              "    <tr>\n",
              "      <th>1</th>\n",
              "      <td>১.৪জিবি ৩৮৳, (৩দিন)।</td>\n",
              "      <td>Best</td>\n",
              "    </tr>\n",
              "    <tr>\n",
              "      <th>2</th>\n",
              "      <td>২GB ৫০মি ৩দিন ৩৬Tk রিচার্জে বা *123*036*1# বিক...</td>\n",
              "      <td>Best</td>\n",
              "    </tr>\n",
              "    <tr>\n",
              "      <th>3</th>\n",
              "      <td>আজ ৪GB +৫০Min +২৫SMS ৫দিন পাবেন ৫৮Tk এয়ারটেলে ...</td>\n",
              "      <td>Better</td>\n",
              "    </tr>\n",
              "    <tr>\n",
              "      <th>4</th>\n",
              "      <td>১.৫GB ৫০মি ৩দিন আজ ৩৬Tk এয়ারটেল বা বিকাশ…</td>\n",
              "      <td>Best</td>\n",
              "    </tr>\n",
              "    <tr>\n",
              "      <th>...</th>\n",
              "      <td>...</td>\n",
              "      <td>...</td>\n",
              "    </tr>\n",
              "    <tr>\n",
              "      <th>504</th>\n",
              "      <td>বোনাস সহ ৯জিবি-১১০টাকা-৩০দিন। ডায়াল *১২১*৫০৭২#</td>\n",
              "      <td>Better</td>\n",
              "    </tr>\n",
              "    <tr>\n",
              "      <th>505</th>\n",
              "      <td>বোনাস সহ ৩জিবি-৩০দিন-৩১টাকা নিতে আজই ডায়াল *১২...</td>\n",
              "      <td>Better</td>\n",
              "    </tr>\n",
              "    <tr>\n",
              "      <th>506</th>\n",
              "      <td>বোনাস সহ ৩৫জিবি-৩৫০টাকা-৩০দিন। ডায়াল *১২১*৫১০২#</td>\n",
              "      <td>Better</td>\n",
              "    </tr>\n",
              "    <tr>\n",
              "      <th>507</th>\n",
              "      <td>৩০দিন মেয়াদে ১৫জিবি মাত্র ১৭০ টাকা! ভিজিট MyGP...</td>\n",
              "      <td>Best</td>\n",
              "    </tr>\n",
              "    <tr>\n",
              "      <th>508</th>\n",
              "      <td>বোনাস সহ ৯জিবি+২০০মিনিট ১৬৮টাকা (মেয়াদ ৩০দিন)।</td>\n",
              "      <td>Better</td>\n",
              "    </tr>\n",
              "  </tbody>\n",
              "</table>\n",
              "<p>509 rows × 2 columns</p>\n",
              "</div>\n",
              "      <button class=\"colab-df-convert\" onclick=\"convertToInteractive('df-63300bf8-f42f-4c86-b8e4-54eb29df7cd8')\"\n",
              "              title=\"Convert this dataframe to an interactive table.\"\n",
              "              style=\"display:none;\">\n",
              "        \n",
              "  <svg xmlns=\"http://www.w3.org/2000/svg\" height=\"24px\"viewBox=\"0 0 24 24\"\n",
              "       width=\"24px\">\n",
              "    <path d=\"M0 0h24v24H0V0z\" fill=\"none\"/>\n",
              "    <path d=\"M18.56 5.44l.94 2.06.94-2.06 2.06-.94-2.06-.94-.94-2.06-.94 2.06-2.06.94zm-11 1L8.5 8.5l.94-2.06 2.06-.94-2.06-.94L8.5 2.5l-.94 2.06-2.06.94zm10 10l.94 2.06.94-2.06 2.06-.94-2.06-.94-.94-2.06-.94 2.06-2.06.94z\"/><path d=\"M17.41 7.96l-1.37-1.37c-.4-.4-.92-.59-1.43-.59-.52 0-1.04.2-1.43.59L10.3 9.45l-7.72 7.72c-.78.78-.78 2.05 0 2.83L4 21.41c.39.39.9.59 1.41.59.51 0 1.02-.2 1.41-.59l7.78-7.78 2.81-2.81c.8-.78.8-2.07 0-2.86zM5.41 20L4 18.59l7.72-7.72 1.47 1.35L5.41 20z\"/>\n",
              "  </svg>\n",
              "      </button>\n",
              "      \n",
              "  <style>\n",
              "    .colab-df-container {\n",
              "      display:flex;\n",
              "      flex-wrap:wrap;\n",
              "      gap: 12px;\n",
              "    }\n",
              "\n",
              "    .colab-df-convert {\n",
              "      background-color: #E8F0FE;\n",
              "      border: none;\n",
              "      border-radius: 50%;\n",
              "      cursor: pointer;\n",
              "      display: none;\n",
              "      fill: #1967D2;\n",
              "      height: 32px;\n",
              "      padding: 0 0 0 0;\n",
              "      width: 32px;\n",
              "    }\n",
              "\n",
              "    .colab-df-convert:hover {\n",
              "      background-color: #E2EBFA;\n",
              "      box-shadow: 0px 1px 2px rgba(60, 64, 67, 0.3), 0px 1px 3px 1px rgba(60, 64, 67, 0.15);\n",
              "      fill: #174EA6;\n",
              "    }\n",
              "\n",
              "    [theme=dark] .colab-df-convert {\n",
              "      background-color: #3B4455;\n",
              "      fill: #D2E3FC;\n",
              "    }\n",
              "\n",
              "    [theme=dark] .colab-df-convert:hover {\n",
              "      background-color: #434B5C;\n",
              "      box-shadow: 0px 1px 3px 1px rgba(0, 0, 0, 0.15);\n",
              "      filter: drop-shadow(0px 1px 2px rgba(0, 0, 0, 0.3));\n",
              "      fill: #FFFFFF;\n",
              "    }\n",
              "  </style>\n",
              "\n",
              "      <script>\n",
              "        const buttonEl =\n",
              "          document.querySelector('#df-63300bf8-f42f-4c86-b8e4-54eb29df7cd8 button.colab-df-convert');\n",
              "        buttonEl.style.display =\n",
              "          google.colab.kernel.accessAllowed ? 'block' : 'none';\n",
              "\n",
              "        async function convertToInteractive(key) {\n",
              "          const element = document.querySelector('#df-63300bf8-f42f-4c86-b8e4-54eb29df7cd8');\n",
              "          const dataTable =\n",
              "            await google.colab.kernel.invokeFunction('convertToInteractive',\n",
              "                                                     [key], {});\n",
              "          if (!dataTable) return;\n",
              "\n",
              "          const docLinkHtml = 'Like what you see? Visit the ' +\n",
              "            '<a target=\"_blank\" href=https://colab.research.google.com/notebooks/data_table.ipynb>data table notebook</a>'\n",
              "            + ' to learn more about interactive tables.';\n",
              "          element.innerHTML = '';\n",
              "          dataTable['output_type'] = 'display_data';\n",
              "          await google.colab.output.renderOutput(dataTable, element);\n",
              "          const docLink = document.createElement('div');\n",
              "          docLink.innerHTML = docLinkHtml;\n",
              "          element.appendChild(docLink);\n",
              "        }\n",
              "      </script>\n",
              "    </div>\n",
              "  </div>\n",
              "  "
            ]
          },
          "metadata": {},
          "execution_count": 51
        }
      ]
    },
    {
      "cell_type": "code",
      "source": [
        "data = df.rename(columns={'daily': 'data'})"
      ],
      "metadata": {
        "id": "zTckDUdkFx0d"
      },
      "execution_count": null,
      "outputs": []
    },
    {
      "cell_type": "code",
      "source": [
        "data"
      ],
      "metadata": {
        "colab": {
          "base_uri": "https://localhost:8080/",
          "height": 423
        },
        "id": "OlFZH8_nF_ZO",
        "outputId": "4551c444-145c-4e48-b0c7-f09fdfd0bd7a"
      },
      "execution_count": null,
      "outputs": [
        {
          "output_type": "execute_result",
          "data": {
            "text/plain": [
              "                                                  data    Type\n",
              "0                                   ৭.৫জিবি ৭৬৳ (৩দিন)    Good\n",
              "1                                 ১.৪জিবি ৩৮৳, (৩দিন)।    Best\n",
              "2    ২GB ৫০মি ৩দিন ৩৬Tk রিচার্জে বা *123*036*1# বিক...    Best\n",
              "3    আজ ৪GB +৫০Min +২৫SMS ৫দিন পাবেন ৫৮Tk এয়ারটেলে ...  Better\n",
              "4            ১.৫GB ৫০মি ৩দিন আজ ৩৬Tk এয়ারটেল বা বিকাশ…    Best\n",
              "..                                                 ...     ...\n",
              "504     বোনাস সহ ৯জিবি-১১০টাকা-৩০দিন। ডায়াল *১২১*৫০৭২#  Better\n",
              "505  বোনাস সহ ৩জিবি-৩০দিন-৩১টাকা নিতে আজই ডায়াল *১২...  Better\n",
              "506    বোনাস সহ ৩৫জিবি-৩৫০টাকা-৩০দিন। ডায়াল *১২১*৫১০২#  Better\n",
              "507  ৩০দিন মেয়াদে ১৫জিবি মাত্র ১৭০ টাকা! ভিজিট MyGP...    Best\n",
              "508     বোনাস সহ ৯জিবি+২০০মিনিট ১৬৮টাকা (মেয়াদ ৩০দিন)।  Better\n",
              "\n",
              "[509 rows x 2 columns]"
            ],
            "text/html": [
              "\n",
              "  <div id=\"df-780fdf3b-7004-4641-95bd-4e22aea48a61\">\n",
              "    <div class=\"colab-df-container\">\n",
              "      <div>\n",
              "<style scoped>\n",
              "    .dataframe tbody tr th:only-of-type {\n",
              "        vertical-align: middle;\n",
              "    }\n",
              "\n",
              "    .dataframe tbody tr th {\n",
              "        vertical-align: top;\n",
              "    }\n",
              "\n",
              "    .dataframe thead th {\n",
              "        text-align: right;\n",
              "    }\n",
              "</style>\n",
              "<table border=\"1\" class=\"dataframe\">\n",
              "  <thead>\n",
              "    <tr style=\"text-align: right;\">\n",
              "      <th></th>\n",
              "      <th>data</th>\n",
              "      <th>Type</th>\n",
              "    </tr>\n",
              "  </thead>\n",
              "  <tbody>\n",
              "    <tr>\n",
              "      <th>0</th>\n",
              "      <td>৭.৫জিবি ৭৬৳ (৩দিন)</td>\n",
              "      <td>Good</td>\n",
              "    </tr>\n",
              "    <tr>\n",
              "      <th>1</th>\n",
              "      <td>১.৪জিবি ৩৮৳, (৩দিন)।</td>\n",
              "      <td>Best</td>\n",
              "    </tr>\n",
              "    <tr>\n",
              "      <th>2</th>\n",
              "      <td>২GB ৫০মি ৩দিন ৩৬Tk রিচার্জে বা *123*036*1# বিক...</td>\n",
              "      <td>Best</td>\n",
              "    </tr>\n",
              "    <tr>\n",
              "      <th>3</th>\n",
              "      <td>আজ ৪GB +৫০Min +২৫SMS ৫দিন পাবেন ৫৮Tk এয়ারটেলে ...</td>\n",
              "      <td>Better</td>\n",
              "    </tr>\n",
              "    <tr>\n",
              "      <th>4</th>\n",
              "      <td>১.৫GB ৫০মি ৩দিন আজ ৩৬Tk এয়ারটেল বা বিকাশ…</td>\n",
              "      <td>Best</td>\n",
              "    </tr>\n",
              "    <tr>\n",
              "      <th>...</th>\n",
              "      <td>...</td>\n",
              "      <td>...</td>\n",
              "    </tr>\n",
              "    <tr>\n",
              "      <th>504</th>\n",
              "      <td>বোনাস সহ ৯জিবি-১১০টাকা-৩০দিন। ডায়াল *১২১*৫০৭২#</td>\n",
              "      <td>Better</td>\n",
              "    </tr>\n",
              "    <tr>\n",
              "      <th>505</th>\n",
              "      <td>বোনাস সহ ৩জিবি-৩০দিন-৩১টাকা নিতে আজই ডায়াল *১২...</td>\n",
              "      <td>Better</td>\n",
              "    </tr>\n",
              "    <tr>\n",
              "      <th>506</th>\n",
              "      <td>বোনাস সহ ৩৫জিবি-৩৫০টাকা-৩০দিন। ডায়াল *১২১*৫১০২#</td>\n",
              "      <td>Better</td>\n",
              "    </tr>\n",
              "    <tr>\n",
              "      <th>507</th>\n",
              "      <td>৩০দিন মেয়াদে ১৫জিবি মাত্র ১৭০ টাকা! ভিজিট MyGP...</td>\n",
              "      <td>Best</td>\n",
              "    </tr>\n",
              "    <tr>\n",
              "      <th>508</th>\n",
              "      <td>বোনাস সহ ৯জিবি+২০০মিনিট ১৬৮টাকা (মেয়াদ ৩০দিন)।</td>\n",
              "      <td>Better</td>\n",
              "    </tr>\n",
              "  </tbody>\n",
              "</table>\n",
              "<p>509 rows × 2 columns</p>\n",
              "</div>\n",
              "      <button class=\"colab-df-convert\" onclick=\"convertToInteractive('df-780fdf3b-7004-4641-95bd-4e22aea48a61')\"\n",
              "              title=\"Convert this dataframe to an interactive table.\"\n",
              "              style=\"display:none;\">\n",
              "        \n",
              "  <svg xmlns=\"http://www.w3.org/2000/svg\" height=\"24px\"viewBox=\"0 0 24 24\"\n",
              "       width=\"24px\">\n",
              "    <path d=\"M0 0h24v24H0V0z\" fill=\"none\"/>\n",
              "    <path d=\"M18.56 5.44l.94 2.06.94-2.06 2.06-.94-2.06-.94-.94-2.06-.94 2.06-2.06.94zm-11 1L8.5 8.5l.94-2.06 2.06-.94-2.06-.94L8.5 2.5l-.94 2.06-2.06.94zm10 10l.94 2.06.94-2.06 2.06-.94-2.06-.94-.94-2.06-.94 2.06-2.06.94z\"/><path d=\"M17.41 7.96l-1.37-1.37c-.4-.4-.92-.59-1.43-.59-.52 0-1.04.2-1.43.59L10.3 9.45l-7.72 7.72c-.78.78-.78 2.05 0 2.83L4 21.41c.39.39.9.59 1.41.59.51 0 1.02-.2 1.41-.59l7.78-7.78 2.81-2.81c.8-.78.8-2.07 0-2.86zM5.41 20L4 18.59l7.72-7.72 1.47 1.35L5.41 20z\"/>\n",
              "  </svg>\n",
              "      </button>\n",
              "      \n",
              "  <style>\n",
              "    .colab-df-container {\n",
              "      display:flex;\n",
              "      flex-wrap:wrap;\n",
              "      gap: 12px;\n",
              "    }\n",
              "\n",
              "    .colab-df-convert {\n",
              "      background-color: #E8F0FE;\n",
              "      border: none;\n",
              "      border-radius: 50%;\n",
              "      cursor: pointer;\n",
              "      display: none;\n",
              "      fill: #1967D2;\n",
              "      height: 32px;\n",
              "      padding: 0 0 0 0;\n",
              "      width: 32px;\n",
              "    }\n",
              "\n",
              "    .colab-df-convert:hover {\n",
              "      background-color: #E2EBFA;\n",
              "      box-shadow: 0px 1px 2px rgba(60, 64, 67, 0.3), 0px 1px 3px 1px rgba(60, 64, 67, 0.15);\n",
              "      fill: #174EA6;\n",
              "    }\n",
              "\n",
              "    [theme=dark] .colab-df-convert {\n",
              "      background-color: #3B4455;\n",
              "      fill: #D2E3FC;\n",
              "    }\n",
              "\n",
              "    [theme=dark] .colab-df-convert:hover {\n",
              "      background-color: #434B5C;\n",
              "      box-shadow: 0px 1px 3px 1px rgba(0, 0, 0, 0.15);\n",
              "      filter: drop-shadow(0px 1px 2px rgba(0, 0, 0, 0.3));\n",
              "      fill: #FFFFFF;\n",
              "    }\n",
              "  </style>\n",
              "\n",
              "      <script>\n",
              "        const buttonEl =\n",
              "          document.querySelector('#df-780fdf3b-7004-4641-95bd-4e22aea48a61 button.colab-df-convert');\n",
              "        buttonEl.style.display =\n",
              "          google.colab.kernel.accessAllowed ? 'block' : 'none';\n",
              "\n",
              "        async function convertToInteractive(key) {\n",
              "          const element = document.querySelector('#df-780fdf3b-7004-4641-95bd-4e22aea48a61');\n",
              "          const dataTable =\n",
              "            await google.colab.kernel.invokeFunction('convertToInteractive',\n",
              "                                                     [key], {});\n",
              "          if (!dataTable) return;\n",
              "\n",
              "          const docLinkHtml = 'Like what you see? Visit the ' +\n",
              "            '<a target=\"_blank\" href=https://colab.research.google.com/notebooks/data_table.ipynb>data table notebook</a>'\n",
              "            + ' to learn more about interactive tables.';\n",
              "          element.innerHTML = '';\n",
              "          dataTable['output_type'] = 'display_data';\n",
              "          await google.colab.output.renderOutput(dataTable, element);\n",
              "          const docLink = document.createElement('div');\n",
              "          docLink.innerHTML = docLinkHtml;\n",
              "          element.appendChild(docLink);\n",
              "        }\n",
              "      </script>\n",
              "    </div>\n",
              "  </div>\n",
              "  "
            ]
          },
          "metadata": {},
          "execution_count": 53
        }
      ]
    },
    {
      "cell_type": "code",
      "source": [
        "data.head()"
      ],
      "metadata": {
        "colab": {
          "base_uri": "https://localhost:8080/",
          "height": 206
        },
        "id": "H5b5MEBHGn0P",
        "outputId": "81235780-011d-40e6-c772-b01c4acbb48d"
      },
      "execution_count": null,
      "outputs": [
        {
          "output_type": "execute_result",
          "data": {
            "text/plain": [
              "                                                data    Type\n",
              "0                                 ৭.৫জিবি ৭৬৳ (৩দিন)    Good\n",
              "1                               ১.৪জিবি ৩৮৳, (৩দিন)।    Best\n",
              "2  ২GB ৫০মি ৩দিন ৩৬Tk রিচার্জে বা *123*036*1# বিক...    Best\n",
              "3  আজ ৪GB +৫০Min +২৫SMS ৫দিন পাবেন ৫৮Tk এয়ারটেলে ...  Better\n",
              "4          ১.৫GB ৫০মি ৩দিন আজ ৩৬Tk এয়ারটেল বা বিকাশ…    Best"
            ],
            "text/html": [
              "\n",
              "  <div id=\"df-957f6502-d311-4196-ac29-6def489958ba\">\n",
              "    <div class=\"colab-df-container\">\n",
              "      <div>\n",
              "<style scoped>\n",
              "    .dataframe tbody tr th:only-of-type {\n",
              "        vertical-align: middle;\n",
              "    }\n",
              "\n",
              "    .dataframe tbody tr th {\n",
              "        vertical-align: top;\n",
              "    }\n",
              "\n",
              "    .dataframe thead th {\n",
              "        text-align: right;\n",
              "    }\n",
              "</style>\n",
              "<table border=\"1\" class=\"dataframe\">\n",
              "  <thead>\n",
              "    <tr style=\"text-align: right;\">\n",
              "      <th></th>\n",
              "      <th>data</th>\n",
              "      <th>Type</th>\n",
              "    </tr>\n",
              "  </thead>\n",
              "  <tbody>\n",
              "    <tr>\n",
              "      <th>0</th>\n",
              "      <td>৭.৫জিবি ৭৬৳ (৩দিন)</td>\n",
              "      <td>Good</td>\n",
              "    </tr>\n",
              "    <tr>\n",
              "      <th>1</th>\n",
              "      <td>১.৪জিবি ৩৮৳, (৩দিন)।</td>\n",
              "      <td>Best</td>\n",
              "    </tr>\n",
              "    <tr>\n",
              "      <th>2</th>\n",
              "      <td>২GB ৫০মি ৩দিন ৩৬Tk রিচার্জে বা *123*036*1# বিক...</td>\n",
              "      <td>Best</td>\n",
              "    </tr>\n",
              "    <tr>\n",
              "      <th>3</th>\n",
              "      <td>আজ ৪GB +৫০Min +২৫SMS ৫দিন পাবেন ৫৮Tk এয়ারটেলে ...</td>\n",
              "      <td>Better</td>\n",
              "    </tr>\n",
              "    <tr>\n",
              "      <th>4</th>\n",
              "      <td>১.৫GB ৫০মি ৩দিন আজ ৩৬Tk এয়ারটেল বা বিকাশ…</td>\n",
              "      <td>Best</td>\n",
              "    </tr>\n",
              "  </tbody>\n",
              "</table>\n",
              "</div>\n",
              "      <button class=\"colab-df-convert\" onclick=\"convertToInteractive('df-957f6502-d311-4196-ac29-6def489958ba')\"\n",
              "              title=\"Convert this dataframe to an interactive table.\"\n",
              "              style=\"display:none;\">\n",
              "        \n",
              "  <svg xmlns=\"http://www.w3.org/2000/svg\" height=\"24px\"viewBox=\"0 0 24 24\"\n",
              "       width=\"24px\">\n",
              "    <path d=\"M0 0h24v24H0V0z\" fill=\"none\"/>\n",
              "    <path d=\"M18.56 5.44l.94 2.06.94-2.06 2.06-.94-2.06-.94-.94-2.06-.94 2.06-2.06.94zm-11 1L8.5 8.5l.94-2.06 2.06-.94-2.06-.94L8.5 2.5l-.94 2.06-2.06.94zm10 10l.94 2.06.94-2.06 2.06-.94-2.06-.94-.94-2.06-.94 2.06-2.06.94z\"/><path d=\"M17.41 7.96l-1.37-1.37c-.4-.4-.92-.59-1.43-.59-.52 0-1.04.2-1.43.59L10.3 9.45l-7.72 7.72c-.78.78-.78 2.05 0 2.83L4 21.41c.39.39.9.59 1.41.59.51 0 1.02-.2 1.41-.59l7.78-7.78 2.81-2.81c.8-.78.8-2.07 0-2.86zM5.41 20L4 18.59l7.72-7.72 1.47 1.35L5.41 20z\"/>\n",
              "  </svg>\n",
              "      </button>\n",
              "      \n",
              "  <style>\n",
              "    .colab-df-container {\n",
              "      display:flex;\n",
              "      flex-wrap:wrap;\n",
              "      gap: 12px;\n",
              "    }\n",
              "\n",
              "    .colab-df-convert {\n",
              "      background-color: #E8F0FE;\n",
              "      border: none;\n",
              "      border-radius: 50%;\n",
              "      cursor: pointer;\n",
              "      display: none;\n",
              "      fill: #1967D2;\n",
              "      height: 32px;\n",
              "      padding: 0 0 0 0;\n",
              "      width: 32px;\n",
              "    }\n",
              "\n",
              "    .colab-df-convert:hover {\n",
              "      background-color: #E2EBFA;\n",
              "      box-shadow: 0px 1px 2px rgba(60, 64, 67, 0.3), 0px 1px 3px 1px rgba(60, 64, 67, 0.15);\n",
              "      fill: #174EA6;\n",
              "    }\n",
              "\n",
              "    [theme=dark] .colab-df-convert {\n",
              "      background-color: #3B4455;\n",
              "      fill: #D2E3FC;\n",
              "    }\n",
              "\n",
              "    [theme=dark] .colab-df-convert:hover {\n",
              "      background-color: #434B5C;\n",
              "      box-shadow: 0px 1px 3px 1px rgba(0, 0, 0, 0.15);\n",
              "      filter: drop-shadow(0px 1px 2px rgba(0, 0, 0, 0.3));\n",
              "      fill: #FFFFFF;\n",
              "    }\n",
              "  </style>\n",
              "\n",
              "      <script>\n",
              "        const buttonEl =\n",
              "          document.querySelector('#df-957f6502-d311-4196-ac29-6def489958ba button.colab-df-convert');\n",
              "        buttonEl.style.display =\n",
              "          google.colab.kernel.accessAllowed ? 'block' : 'none';\n",
              "\n",
              "        async function convertToInteractive(key) {\n",
              "          const element = document.querySelector('#df-957f6502-d311-4196-ac29-6def489958ba');\n",
              "          const dataTable =\n",
              "            await google.colab.kernel.invokeFunction('convertToInteractive',\n",
              "                                                     [key], {});\n",
              "          if (!dataTable) return;\n",
              "\n",
              "          const docLinkHtml = 'Like what you see? Visit the ' +\n",
              "            '<a target=\"_blank\" href=https://colab.research.google.com/notebooks/data_table.ipynb>data table notebook</a>'\n",
              "            + ' to learn more about interactive tables.';\n",
              "          element.innerHTML = '';\n",
              "          dataTable['output_type'] = 'display_data';\n",
              "          await google.colab.output.renderOutput(dataTable, element);\n",
              "          const docLink = document.createElement('div');\n",
              "          docLink.innerHTML = docLinkHtml;\n",
              "          element.appendChild(docLink);\n",
              "        }\n",
              "      </script>\n",
              "    </div>\n",
              "  </div>\n",
              "  "
            ]
          },
          "metadata": {},
          "execution_count": 54
        }
      ]
    },
    {
      "cell_type": "code",
      "source": [
        "data['Type'].value_counts()"
      ],
      "metadata": {
        "colab": {
          "base_uri": "https://localhost:8080/"
        },
        "id": "Z7v40bUfGqqv",
        "outputId": "23dbc2bf-4d7c-49bf-9ea1-e28aa5bb7944"
      },
      "execution_count": null,
      "outputs": [
        {
          "output_type": "execute_result",
          "data": {
            "text/plain": [
              "Best      200\n",
              "Good      172\n",
              "Better    137\n",
              "Name: Type, dtype: int64"
            ]
          },
          "metadata": {},
          "execution_count": 55
        }
      ]
    },
    {
      "cell_type": "code",
      "source": [
        "import seaborn as sns\n",
        "sns.countplot(data['Type'])\n",
        "sns.despine()"
      ],
      "metadata": {
        "colab": {
          "base_uri": "https://localhost:8080/",
          "height": 336
        },
        "id": "O9rb5CwnRhDW",
        "outputId": "e9969011-1a01-4475-d1b3-ea91c04c5e48"
      },
      "execution_count": null,
      "outputs": [
        {
          "output_type": "stream",
          "name": "stderr",
          "text": [
            "/usr/local/lib/python3.7/dist-packages/seaborn/_decorators.py:43: FutureWarning: Pass the following variable as a keyword arg: x. From version 0.12, the only valid positional argument will be `data`, and passing other arguments without an explicit keyword will result in an error or misinterpretation.\n",
            "  FutureWarning\n"
          ]
        },
        {
          "output_type": "display_data",
          "data": {
            "text/plain": [
              "<Figure size 432x288 with 1 Axes>"
            ],
            "image/png": "[encoded data removed]"
          },
          "metadata": {
            "needs_background": "light"
          }
        }
      ]
    },
    {
      "cell_type": "code",
      "source": [
        "#Data cleaning"
      ],
      "metadata": {
        "id": "jD23qQjKVOTw"
      },
      "execution_count": null,
      "outputs": []
    },
    {
      "cell_type": "code",
      "source": [
        "data.loc[18,'data']"
      ],
      "metadata": {
        "colab": {
          "base_uri": "https://localhost:8080/",
          "height": 36
        },
        "id": "XIYgQSalQSCE",
        "outputId": "eb7b3a81-fe3b-4959-bb8e-71beeae12edb"
      },
      "execution_count": null,
      "outputs": [
        {
          "output_type": "execute_result",
          "data": {
            "text/plain": [
              "'৳৩৮-১.৫GB-৩দিন,ডায়াল *123*38#'"
            ],
            "application/vnd.google.colaboratory.intrinsic+json": {
              "type": "string"
            }
          },
          "metadata": {},
          "execution_count": 58
        }
      ]
    },
    {
      "cell_type": "code",
      "source": [
        "def clean_sentence(sent):\n",
        "\n",
        "\n",
        "    sent = re.sub(r'(\\W)(?=\\1)', '', sent)\n",
        "    sent = re.sub(r'https?:\\/\\/.*[\\r\\n]*', '', sent, flags=re.MULTILINE)\n",
        "    sent = re.sub(r'\\<a href', ' ', sent)\n",
        "    sent = re.sub(r'&amp;', '', sent)\n",
        "    sent = re.sub(r'<br />', ' ', sent)\n",
        "    sent = re.sub(r'\\'', ' ', sent)\n",
        "    sent = re.sub(r'ߑͰߑ̰ߒנ', '', sent)\n",
        "    sent = re.sub(r'ߎɰߎɰߎɍ', '', sent)\n",
        "\n",
        "    sent = sent.strip()\n",
        "    return sent"
      ],
      "metadata": {
        "id": "8Z8p88MjQdlk"
      },
      "execution_count": null,
      "outputs": []
    },
    {
      "cell_type": "code",
      "source": [
        "data.loc[15,'data']"
      ],
      "metadata": {
        "colab": {
          "base_uri": "https://localhost:8080/",
          "height": 36
        },
        "id": "ch2dkflTQIPM",
        "outputId": "5d109a71-bf1f-486f-b1b4-926897d8675d"
      },
      "execution_count": null,
      "outputs": [
        {
          "output_type": "execute_result",
          "data": {
            "text/plain": [
              "'৳৫৭-২.৫জিবি ৩দিন'"
            ],
            "application/vnd.google.colaboratory.intrinsic+json": {
              "type": "string"
            }
          },
          "metadata": {},
          "execution_count": 60
        }
      ]
    },
    {
      "cell_type": "code",
      "source": [
        "for i, sent  in enumerate(data['data'].tolist()):\n",
        "    data.loc[i,'clean_sentence'] = clean_sentence(sent)"
      ],
      "metadata": {
        "id": "tqasxwKbQgJM"
      },
      "execution_count": null,
      "outputs": []
    },
    {
      "cell_type": "code",
      "source": [
        "test = data.loc[15,'clean_sentence']\n",
        "test"
      ],
      "metadata": {
        "colab": {
          "base_uri": "https://localhost:8080/",
          "height": 36
        },
        "id": "V8NJVbZGQmC0",
        "outputId": "e86bf8c4-7b42-4a05-9a25-df68e27306ef"
      },
      "execution_count": null,
      "outputs": [
        {
          "output_type": "execute_result",
          "data": {
            "text/plain": [
              "'৳৫৭-২.৫জিবি ৩দিন'"
            ],
            "application/vnd.google.colaboratory.intrinsic+json": {
              "type": "string"
            }
          },
          "metadata": {},
          "execution_count": 62
        }
      ]
    },
    {
      "cell_type": "code",
      "source": [
        "test = data.loc[2,'clean_sentence']\n",
        "test"
      ],
      "metadata": {
        "colab": {
          "base_uri": "https://localhost:8080/",
          "height": 36
        },
        "id": "TqX4v_65TFId",
        "outputId": "b8710a1f-cc9d-45ad-8291-97101a13f191"
      },
      "execution_count": null,
      "outputs": [
        {
          "output_type": "execute_result",
          "data": {
            "text/plain": [
              "'২GB ৫০মি ৩দিন ৩৬Tk রিচার্জে বা *123*036*1# বিকাশ রিচার্জেও পাবেন'"
            ],
            "application/vnd.google.colaboratory.intrinsic+json": {
              "type": "string"
            }
          },
          "metadata": {},
          "execution_count": 63
        }
      ]
    },
    {
      "cell_type": "code",
      "source": [
        "\n",
        "def tokenized_data(sent):\n",
        "    tokenized_text = sent.split()\n",
        "    return tokenized_text"
      ],
      "metadata": {
        "id": "F8cDdvvcQ6K0"
      },
      "execution_count": null,
      "outputs": []
    },
    {
      "cell_type": "code",
      "source": [
        "stop_words = {'এ', 'হয়', 'কি', 'কী', 'এর', 'কে', 'যে', 'এই', 'বা', 'সব', 'টি', 'তা',\n",
        "       'সে', 'তাই', 'সেই', 'তার', 'আগে', 'যদি', 'আছে', 'আমি', 'এবং', 'করে', 'কার', 'এটি', 'হতে', 'যায়',\n",
        "       'আরও', 'যাক', 'খুব', 'উপর', 'পরে', 'হবে', 'কেন', 'কখন', 'সকল', 'হয়', 'ঠিক', 'একই', 'কোন',\n",
        "       'ছিল', 'খুবই', 'কোনো', 'অধীন', 'যারা', 'তারা', 'গুলি', 'তাকে', 'সেটা', 'সময়', 'আমার', 'আমরা', 'সবার',\n",
        "       'উভয়', 'একটা', 'আপনি', 'নিয়ে', 'একটি', 'বন্ধ', 'জন্য', 'শুধু', 'যেটা', 'উচিত', 'মাঝে', 'থেকে', 'করবে',\n",
        "       'আবার', 'উপরে', 'সেটি', 'কিছু', 'কারণ', 'যেমন', 'তিনি', 'মধ্যে', 'আমাকে', 'করছেন', 'তুলনা', 'তারপর',\n",
        "       'নিজেই', 'থাকার', 'নিজের', 'পারেন', 'একবার', 'সঙ্গে', 'ইচ্ছা', 'নীচের', 'এগুলো', 'আপনার', 'অধীনে', 'কিংবা',\n",
        "       'এখানে', 'তাহলে', 'কয়েক', 'জন্যে', 'হচ্ছে', 'তাদের', 'কোথায়', 'কিন্তু', 'নিজেকে', 'যতক্ষণ', 'আমাদের',\n",
        "       'দ্বারা', 'হয়েছে', ' সঙ্গে', 'সেখানে', 'কিভাবে', 'মাধ্যমে', 'নিজেদের', 'তুলনায়', 'প্রতিটি',\n",
        "       'তাদেরকে', 'ইত্যাদি', 'সম্পর্কে', 'সর্বাধিক', 'বিরুদ্ধে', 'অন্যান্য'}\n",
        "\n",
        "def remove_stop_words(text):\n",
        "    text = [w for w in text if not w in stop_words]\n",
        "    text = ' '.join(text)\n",
        "    return text\n"
      ],
      "metadata": {
        "id": "j4oxR4JqRAqk"
      },
      "execution_count": null,
      "outputs": []
    },
    {
      "cell_type": "code",
      "source": [
        "t_data = tokenized_data(test)\n",
        "r_word = remove_stop_words(t_data)\n",
        "print('befor :', test)\n",
        "print('after :', r_word)"
      ],
      "metadata": {
        "colab": {
          "base_uri": "https://localhost:8080/"
        },
        "id": "Dxx7Rs3wRDJM",
        "outputId": "b557a8d3-81f0-4c7c-c7aa-6b2930d6a73e"
      },
      "execution_count": null,
      "outputs": [
        {
          "output_type": "stream",
          "name": "stdout",
          "text": [
            "befor : ২GB ৫০মি ৩দিন ৩৬Tk রিচার্জে বা *123*036*1# বিকাশ রিচার্জেও পাবেন\n",
            "after : ২GB ৫০মি ৩দিন ৩৬Tk রিচার্জে *123*036*1# বিকাশ রিচার্জেও পাবেন\n"
          ]
        }
      ]
    },
    {
      "cell_type": "code",
      "source": [
        "data['clean_data'] = [remove_stop_words(tokenized_data(sent)) for sent in data['clean_sentence'].tolist()]\n",
        "#del df['sentence']\n",
        "df.to_csv('sentiment_analysis_clean_data.csv', encoding='utf-8', index=False)"
      ],
      "metadata": {
        "id": "czPXFc2bRIw0"
      },
      "execution_count": null,
      "outputs": []
    },
    {
      "cell_type": "code",
      "source": [
        "def text_transformation(df_col):\n",
        "    corpus = []\n",
        "    for item in df_col:\n",
        "        new_item = re.sub('[^a-zA-Z]',' ',str(item))\n",
        "        new_item = new_item.lower()\n",
        "        new_item = new_item.split()\n",
        "\n",
        "        corpus.append(' '.join(str(x) for x in new_item))\n",
        "    return corpus"
      ],
      "metadata": {
        "id": "jcyzrMwFSTrZ"
      },
      "execution_count": null,
      "outputs": []
    },
    {
      "cell_type": "code",
      "source": [
        "data"
      ],
      "metadata": {
        "colab": {
          "base_uri": "https://localhost:8080/",
          "height": 589
        },
        "id": "5n8uxBrZSjPV",
        "outputId": "2e7b1486-a836-4996-99ac-398d1196545f"
      },
      "execution_count": null,
      "outputs": [
        {
          "output_type": "execute_result",
          "data": {
            "text/plain": [
              "                                                  data    Type  \\\n",
              "0                                   ৭.৫জিবি ৭৬৳ (৩দিন)    Good   \n",
              "1                                 ১.৪জিবি ৩৮৳, (৩দিন)।    Best   \n",
              "2    ২GB ৫০মি ৩দিন ৩৬Tk রিচার্জে বা *123*036*1# বিক...    Best   \n",
              "3    আজ ৪GB +৫০Min +২৫SMS ৫দিন পাবেন ৫৮Tk এয়ারটেলে ...  Better   \n",
              "4            ১.৫GB ৫০মি ৩দিন আজ ৩৬Tk এয়ারটেল বা বিকাশ…    Best   \n",
              "..                                                 ...     ...   \n",
              "504     বোনাস সহ ৯জিবি-১১০টাকা-৩০দিন। ডায়াল *১২১*৫০৭২#  Better   \n",
              "505  বোনাস সহ ৩জিবি-৩০দিন-৩১টাকা নিতে আজই ডায়াল *১২...  Better   \n",
              "506    বোনাস সহ ৩৫জিবি-৩৫০টাকা-৩০দিন। ডায়াল *১২১*৫১০২#  Better   \n",
              "507  ৩০দিন মেয়াদে ১৫জিবি মাত্র ১৭০ টাকা! ভিজিট MyGP...    Best   \n",
              "508     বোনাস সহ ৯জিবি+২০০মিনিট ১৬৮টাকা (মেয়াদ ৩০দিন)।  Better   \n",
              "\n",
              "                                        clean_sentence  \\\n",
              "0                                   ৭.৫জিবি ৭৬৳ (৩দিন)   \n",
              "1                                 ১.৪জিবি ৩৮৳, (৩দিন)।   \n",
              "2    ২GB ৫০মি ৩দিন ৩৬Tk রিচার্জে বা *123*036*1# বিক...   \n",
              "3    আজ ৪GB +৫০Min +২৫SMS ৫দিন পাবেন ৫৮Tk এয়ারটেলে ...   \n",
              "4            ১.৫GB ৫০মি ৩দিন আজ ৩৬Tk এয়ারটেল বা বিকাশ…   \n",
              "..                                                 ...   \n",
              "504     বোনাস সহ ৯জিবি-১১০টাকা-৩০দিন। ডায়াল *১২১*৫০৭২#   \n",
              "505  বোনাস সহ ৩জিবি-৩০দিন-৩১টাকা নিতে আজই ডায়াল *১২...   \n",
              "506    বোনাস সহ ৩৫জিবি-৩৫০টাকা-৩০দিন। ডায়াল *১২১*৫১০২#   \n",
              "507  ৩০দিন মেয়াদে ১৫জিবি মাত্র ১৭০ টাকা! ভিজিট MyGP...   \n",
              "508     বোনাস সহ ৯জিবি+২০০মিনিট ১৬৮টাকা (মেয়াদ ৩০দিন)।   \n",
              "\n",
              "                                            clean_data  \n",
              "0                                   ৭.৫জিবি ৭৬৳ (৩দিন)  \n",
              "1                                 ১.৪জিবি ৩৮৳, (৩দিন)।  \n",
              "2    ২GB ৫০মি ৩দিন ৩৬Tk রিচার্জে *123*036*1# বিকাশ ...  \n",
              "3    আজ ৪GB +৫০Min +২৫SMS ৫দিন পাবেন ৫৮Tk এয়ারটেলে ...  \n",
              "4               ১.৫GB ৫০মি ৩দিন আজ ৩৬Tk এয়ারটেল বিকাশ…  \n",
              "..                                                 ...  \n",
              "504     বোনাস সহ ৯জিবি-১১০টাকা-৩০দিন। ডায়াল *১২১*৫০৭২#  \n",
              "505  বোনাস সহ ৩জিবি-৩০দিন-৩১টাকা নিতে আজই ডায়াল *১২...  \n",
              "506    বোনাস সহ ৩৫জিবি-৩৫০টাকা-৩০দিন। ডায়াল *১২১*৫১০২#  \n",
              "507  ৩০দিন মেয়াদে ১৫জিবি মাত্র ১৭০ টাকা! ভিজিট MyGP...  \n",
              "508     বোনাস সহ ৯জিবি+২০০মিনিট ১৬৮টাকা (মেয়াদ ৩০দিন)।  \n",
              "\n",
              "[509 rows x 4 columns]"
            ],
            "text/html": [
              "\n",
              "  <div id=\"df-e2685ce4-ea80-4799-80a9-02491966f14d\">\n",
              "    <div class=\"colab-df-container\">\n",
              "      <div>\n",
              "<style scoped>\n",
              "    .dataframe tbody tr th:only-of-type {\n",
              "        vertical-align: middle;\n",
              "    }\n",
              "\n",
              "    .dataframe tbody tr th {\n",
              "        vertical-align: top;\n",
              "    }\n",
              "\n",
              "    .dataframe thead th {\n",
              "        text-align: right;\n",
              "    }\n",
              "</style>\n",
              "<table border=\"1\" class=\"dataframe\">\n",
              "  <thead>\n",
              "    <tr style=\"text-align: right;\">\n",
              "      <th></th>\n",
              "      <th>data</th>\n",
              "      <th>Type</th>\n",
              "      <th>clean_sentence</th>\n",
              "      <th>clean_data</th>\n",
              "    </tr>\n",
              "  </thead>\n",
              "  <tbody>\n",
              "    <tr>\n",
              "      <th>0</th>\n",
              "      <td>৭.৫জিবি ৭৬৳ (৩দিন)</td>\n",
              "      <td>Good</td>\n",
              "      <td>৭.৫জিবি ৭৬৳ (৩দিন)</td>\n",
              "      <td>৭.৫জিবি ৭৬৳ (৩দিন)</td>\n",
              "    </tr>\n",
              "    <tr>\n",
              "      <th>1</th>\n",
              "      <td>১.৪জিবি ৩৮৳, (৩দিন)।</td>\n",
              "      <td>Best</td>\n",
              "      <td>১.৪জিবি ৩৮৳, (৩দিন)।</td>\n",
              "      <td>১.৪জিবি ৩৮৳, (৩দিন)।</td>\n",
              "    </tr>\n",
              "    <tr>\n",
              "      <th>2</th>\n",
              "      <td>২GB ৫০মি ৩দিন ৩৬Tk রিচার্জে বা *123*036*1# বিক...</td>\n",
              "      <td>Best</td>\n",
              "      <td>২GB ৫০মি ৩দিন ৩৬Tk রিচার্জে বা *123*036*1# বিক...</td>\n",
              "      <td>২GB ৫০মি ৩দিন ৩৬Tk রিচার্জে *123*036*1# বিকাশ ...</td>\n",
              "    </tr>\n",
              "    <tr>\n",
              "      <th>3</th>\n",
              "      <td>আজ ৪GB +৫০Min +২৫SMS ৫দিন পাবেন ৫৮Tk এয়ারটেলে ...</td>\n",
              "      <td>Better</td>\n",
              "      <td>আজ ৪GB +৫০Min +২৫SMS ৫দিন পাবেন ৫৮Tk এয়ারটেলে ...</td>\n",
              "      <td>আজ ৪GB +৫০Min +২৫SMS ৫দিন পাবেন ৫৮Tk এয়ারটেলে ...</td>\n",
              "    </tr>\n",
              "    <tr>\n",
              "      <th>4</th>\n",
              "      <td>১.৫GB ৫০মি ৩দিন আজ ৩৬Tk এয়ারটেল বা বিকাশ…</td>\n",
              "      <td>Best</td>\n",
              "      <td>১.৫GB ৫০মি ৩দিন আজ ৩৬Tk এয়ারটেল বা বিকাশ…</td>\n",
              "      <td>১.৫GB ৫০মি ৩দিন আজ ৩৬Tk এয়ারটেল বিকাশ…</td>\n",
              "    </tr>\n",
              "    <tr>\n",
              "      <th>...</th>\n",
              "      <td>...</td>\n",
              "      <td>...</td>\n",
              "      <td>...</td>\n",
              "      <td>...</td>\n",
              "    </tr>\n",
              "    <tr>\n",
              "      <th>504</th>\n",
              "      <td>বোনাস সহ ৯জিবি-১১০টাকা-৩০দিন। ডায়াল *১২১*৫০৭২#</td>\n",
              "      <td>Better</td>\n",
              "      <td>বোনাস সহ ৯জিবি-১১০টাকা-৩০দিন। ডায়াল *১২১*৫০৭২#</td>\n",
              "      <td>বোনাস সহ ৯জিবি-১১০টাকা-৩০দিন। ডায়াল *১২১*৫০৭২#</td>\n",
              "    </tr>\n",
              "    <tr>\n",
              "      <th>505</th>\n",
              "      <td>বোনাস সহ ৩জিবি-৩০দিন-৩১টাকা নিতে আজই ডায়াল *১২...</td>\n",
              "      <td>Better</td>\n",
              "      <td>বোনাস সহ ৩জিবি-৩০দিন-৩১টাকা নিতে আজই ডায়াল *১২...</td>\n",
              "      <td>বোনাস সহ ৩জিবি-৩০দিন-৩১টাকা নিতে আজই ডায়াল *১২...</td>\n",
              "    </tr>\n",
              "    <tr>\n",
              "      <th>506</th>\n",
              "      <td>বোনাস সহ ৩৫জিবি-৩৫০টাকা-৩০দিন। ডায়াল *১২১*৫১০২#</td>\n",
              "      <td>Better</td>\n",
              "      <td>বোনাস সহ ৩৫জিবি-৩৫০টাকা-৩০দিন। ডায়াল *১২১*৫১০২#</td>\n",
              "      <td>বোনাস সহ ৩৫জিবি-৩৫০টাকা-৩০দিন। ডায়াল *১২১*৫১০২#</td>\n",
              "    </tr>\n",
              "    <tr>\n",
              "      <th>507</th>\n",
              "      <td>৩০দিন মেয়াদে ১৫জিবি মাত্র ১৭০ টাকা! ভিজিট MyGP...</td>\n",
              "      <td>Best</td>\n",
              "      <td>৩০দিন মেয়াদে ১৫জিবি মাত্র ১৭০ টাকা! ভিজিট MyGP...</td>\n",
              "      <td>৩০দিন মেয়াদে ১৫জিবি মাত্র ১৭০ টাকা! ভিজিট MyGP...</td>\n",
              "    </tr>\n",
              "    <tr>\n",
              "      <th>508</th>\n",
              "      <td>বোনাস সহ ৯জিবি+২০০মিনিট ১৬৮টাকা (মেয়াদ ৩০দিন)।</td>\n",
              "      <td>Better</td>\n",
              "      <td>বোনাস সহ ৯জিবি+২০০মিনিট ১৬৮টাকা (মেয়াদ ৩০দিন)।</td>\n",
              "      <td>বোনাস সহ ৯জিবি+২০০মিনিট ১৬৮টাকা (মেয়াদ ৩০দিন)।</td>\n",
              "    </tr>\n",
              "  </tbody>\n",
              "</table>\n",
              "<p>509 rows × 4 columns</p>\n",
              "</div>\n",
              "      <button class=\"colab-df-convert\" onclick=\"convertToInteractive('df-e2685ce4-ea80-4799-80a9-02491966f14d')\"\n",
              "              title=\"Convert this dataframe to an interactive table.\"\n",
              "              style=\"display:none;\">\n",
              "        \n",
              "  <svg xmlns=\"http://www.w3.org/2000/svg\" height=\"24px\"viewBox=\"0 0 24 24\"\n",
              "       width=\"24px\">\n",
              "    <path d=\"M0 0h24v24H0V0z\" fill=\"none\"/>\n",
              "    <path d=\"M18.56 5.44l.94 2.06.94-2.06 2.06-.94-2.06-.94-.94-2.06-.94 2.06-2.06.94zm-11 1L8.5 8.5l.94-2.06 2.06-.94-2.06-.94L8.5 2.5l-.94 2.06-2.06.94zm10 10l.94 2.06.94-2.06 2.06-.94-2.06-.94-.94-2.06-.94 2.06-2.06.94z\"/><path d=\"M17.41 7.96l-1.37-1.37c-.4-.4-.92-.59-1.43-.59-.52 0-1.04.2-1.43.59L10.3 9.45l-7.72 7.72c-.78.78-.78 2.05 0 2.83L4 21.41c.39.39.9.59 1.41.59.51 0 1.02-.2 1.41-.59l7.78-7.78 2.81-2.81c.8-.78.8-2.07 0-2.86zM5.41 20L4 18.59l7.72-7.72 1.47 1.35L5.41 20z\"/>\n",
              "  </svg>\n",
              "      </button>\n",
              "      \n",
              "  <style>\n",
              "    .colab-df-container {\n",
              "      display:flex;\n",
              "      flex-wrap:wrap;\n",
              "      gap: 12px;\n",
              "    }\n",
              "\n",
              "    .colab-df-convert {\n",
              "      background-color: #E8F0FE;\n",
              "      border: none;\n",
              "      border-radius: 50%;\n",
              "      cursor: pointer;\n",
              "      display: none;\n",
              "      fill: #1967D2;\n",
              "      height: 32px;\n",
              "      padding: 0 0 0 0;\n",
              "      width: 32px;\n",
              "    }\n",
              "\n",
              "    .colab-df-convert:hover {\n",
              "      background-color: #E2EBFA;\n",
              "      box-shadow: 0px 1px 2px rgba(60, 64, 67, 0.3), 0px 1px 3px 1px rgba(60, 64, 67, 0.15);\n",
              "      fill: #174EA6;\n",
              "    }\n",
              "\n",
              "    [theme=dark] .colab-df-convert {\n",
              "      background-color: #3B4455;\n",
              "      fill: #D2E3FC;\n",
              "    }\n",
              "\n",
              "    [theme=dark] .colab-df-convert:hover {\n",
              "      background-color: #434B5C;\n",
              "      box-shadow: 0px 1px 3px 1px rgba(0, 0, 0, 0.15);\n",
              "      filter: drop-shadow(0px 1px 2px rgba(0, 0, 0, 0.3));\n",
              "      fill: #FFFFFF;\n",
              "    }\n",
              "  </style>\n",
              "\n",
              "      <script>\n",
              "        const buttonEl =\n",
              "          document.querySelector('#df-e2685ce4-ea80-4799-80a9-02491966f14d button.colab-df-convert');\n",
              "        buttonEl.style.display =\n",
              "          google.colab.kernel.accessAllowed ? 'block' : 'none';\n",
              "\n",
              "        async function convertToInteractive(key) {\n",
              "          const element = document.querySelector('#df-e2685ce4-ea80-4799-80a9-02491966f14d');\n",
              "          const dataTable =\n",
              "            await google.colab.kernel.invokeFunction('convertToInteractive',\n",
              "                                                     [key], {});\n",
              "          if (!dataTable) return;\n",
              "\n",
              "          const docLinkHtml = 'Like what you see? Visit the ' +\n",
              "            '<a target=\"_blank\" href=https://colab.research.google.com/notebooks/data_table.ipynb>data table notebook</a>'\n",
              "            + ' to learn more about interactive tables.';\n",
              "          element.innerHTML = '';\n",
              "          dataTable['output_type'] = 'display_data';\n",
              "          await google.colab.output.renderOutput(dataTable, element);\n",
              "          const docLink = document.createElement('div');\n",
              "          docLink.innerHTML = docLinkHtml;\n",
              "          element.appendChild(docLink);\n",
              "        }\n",
              "      </script>\n",
              "    </div>\n",
              "  </div>\n",
              "  "
            ]
          },
          "metadata": {},
          "execution_count": 69
        }
      ]
    },
    {
      "cell_type": "code",
      "source": [
        "test = data.loc[2,'clean_sentence']\n",
        "test"
      ],
      "metadata": {
        "colab": {
          "base_uri": "https://localhost:8080/",
          "height": 36
        },
        "id": "W4deg3VZS8Q9",
        "outputId": "44ff1e6a-9f99-425b-a9b4-abe4e5d151b1"
      },
      "execution_count": null,
      "outputs": [
        {
          "output_type": "execute_result",
          "data": {
            "text/plain": [
              "'২GB ৫০মি ৩দিন ৩৬Tk রিচার্জে বা *123*036*1# বিকাশ রিচার্জেও পাবেন'"
            ],
            "application/vnd.google.colaboratory.intrinsic+json": {
              "type": "string"
            }
          },
          "metadata": {},
          "execution_count": 70
        }
      ]
    },
    {
      "cell_type": "code",
      "source": [
        "from sklearn.feature_extraction.text import CountVectorizer\n",
        "vect = CountVectorizer()"
      ],
      "metadata": {
        "id": "EGcxFo2xdMPH"
      },
      "execution_count": null,
      "outputs": []
    },
    {
      "cell_type": "code",
      "source": [
        "def text_transformation(df_col):\n",
        "    corpus = []\n",
        "    for item in df_col:\n",
        "        new_item = re.sub('[^a-zA-Z]',' ',str(item))\n",
        "        new_item = new_item.lower()\n",
        "        new_item = new_item.split()\n",
        "\n",
        "        corpus.append(' '.join(str(x) for x in new_item))\n",
        "    return corpus"
      ],
      "metadata": {
        "id": "uM2rth-OeWG_"
      },
      "execution_count": null,
      "outputs": []
    },
    {
      "cell_type": "code",
      "source": [
        "corpus = text_transformation(data['clean_data'])"
      ],
      "metadata": {
        "id": "VX3JYPIbecA-"
      },
      "execution_count": null,
      "outputs": []
    },
    {
      "cell_type": "code",
      "source": [
        "cv = CountVectorizer(ngram_range=(1,2))\n",
        "traindata = cv.fit_transform(corpus)\n",
        "X = traindata\n",
        "y =data.Type"
      ],
      "metadata": {
        "id": "nbg5VBN_elie"
      },
      "execution_count": null,
      "outputs": []
    },
    {
      "cell_type": "code",
      "source": [
        "from sklearn.model_selection import train_test_split\n",
        "\n",
        "X_train, X_test, y_train, y_test = train_test_split(X, y, test_size=0.2, random_state=0)"
      ],
      "metadata": {
        "id": "2n82vaG8s4m3"
      },
      "execution_count": null,
      "outputs": []
    },
    {
      "cell_type": "code",
      "source": [
        "from sklearn.linear_model import LogisticRegression"
      ],
      "metadata": {
        "id": "RIbQLosdeud3"
      },
      "execution_count": null,
      "outputs": []
    },
    {
      "cell_type": "code",
      "source": [
        "lr= LogisticRegression()\n",
        "lr.fit(X_train,y_train)"
      ],
      "metadata": {
        "colab": {
          "base_uri": "https://localhost:8080/"
        },
        "id": "YvJ-UwKpe0CW",
        "outputId": "3a7575a5-35d3-4d4d-82e5-ce9880c7eb2d"
      },
      "execution_count": null,
      "outputs": [
        {
          "output_type": "execute_result",
          "data": {
            "text/plain": [
              "LogisticRegression()"
            ]
          },
          "metadata": {},
          "execution_count": 77
        }
      ]
    },
    {
      "cell_type": "code",
      "source": [
        "lr.score(X_test,y_test)"
      ],
      "metadata": {
        "colab": {
          "base_uri": "https://localhost:8080/"
        },
        "id": "hvQ1jTzpe2fv",
        "outputId": "aa3a7d20-5693-46ba-dc17-b007d8c3fe85"
      },
      "execution_count": null,
      "outputs": [
        {
          "output_type": "execute_result",
          "data": {
            "text/plain": [
              "0.47058823529411764"
            ]
          },
          "metadata": {},
          "execution_count": 78
        }
      ]
    },
    {
      "cell_type": "code",
      "source": [
        "predictions = lr.predict(X_test)"
      ],
      "metadata": {
        "id": "1W186qGEtgVA"
      },
      "execution_count": null,
      "outputs": []
    },
    {
      "cell_type": "code",
      "source": [
        "from sklearn.metrics import accuracy_score,precision_score,recall_score,confusion_matrix,roc_curve,classification_report"
      ],
      "metadata": {
        "id": "gl--aISBtzoH"
      },
      "execution_count": null,
      "outputs": []
    },
    {
      "cell_type": "code",
      "source": [
        "print(classification_report(y_test, predictions))"
      ],
      "metadata": {
        "colab": {
          "base_uri": "https://localhost:8080/"
        },
        "id": "qSjWLqmQtolw",
        "outputId": "e6091e20-dc2b-42b2-a31f-e08cd86e65fd"
      },
      "execution_count": null,
      "outputs": [
        {
          "output_type": "stream",
          "name": "stdout",
          "text": [
            "              precision    recall  f1-score   support\n",
            "\n",
            "        Best       0.59      0.40      0.47        43\n",
            "      Better       0.45      0.19      0.26        27\n",
            "        Good       0.42      0.81      0.55        32\n",
            "\n",
            "    accuracy                           0.47       102\n",
            "   macro avg       0.49      0.46      0.43       102\n",
            "weighted avg       0.50      0.47      0.44       102\n",
            "\n"
          ]
        }
      ]
    },
    {
      "cell_type": "code",
      "source": [
        "from sklearn.naive_bayes import MultinomialNB\n",
        "classifier = MultinomialNB()\n",
        "classifier.fit(X_train,y_train)"
      ],
      "metadata": {
        "colab": {
          "base_uri": "https://localhost:8080/"
        },
        "id": "t8T5lUL1t30W",
        "outputId": "c1fc29c0-8446-48c9-e29c-70ce3d1c7330"
      },
      "execution_count": null,
      "outputs": [
        {
          "output_type": "execute_result",
          "data": {
            "text/plain": [
              "MultinomialNB()"
            ]
          },
          "metadata": {},
          "execution_count": 82
        }
      ]
    },
    {
      "cell_type": "code",
      "source": [
        "classifier.score(X_test,y_test)"
      ],
      "metadata": {
        "colab": {
          "base_uri": "https://localhost:8080/"
        },
        "id": "KXBdMcUmuGim",
        "outputId": "58109125-f082-4164-8d4e-e02894511c09"
      },
      "execution_count": null,
      "outputs": [
        {
          "output_type": "execute_result",
          "data": {
            "text/plain": [
              "0.4215686274509804"
            ]
          },
          "metadata": {},
          "execution_count": 83
        }
      ]
    },
    {
      "cell_type": "code",
      "source": [
        "from sklearn.svm import SVC"
      ],
      "metadata": {
        "id": "yUjMmi-iuupo"
      },
      "execution_count": null,
      "outputs": []
    },
    {
      "cell_type": "code",
      "source": [
        "svm=SVC()\n",
        "svm.fit(X_train,y_train)"
      ],
      "metadata": {
        "colab": {
          "base_uri": "https://localhost:8080/"
        },
        "id": "hzsP9aIKuzNe",
        "outputId": "f4e4cecf-75cd-437f-c252-c80ec6e07c4f"
      },
      "execution_count": null,
      "outputs": [
        {
          "output_type": "execute_result",
          "data": {
            "text/plain": [
              "SVC()"
            ]
          },
          "metadata": {},
          "execution_count": 85
        }
      ]
    },
    {
      "cell_type": "code",
      "source": [
        "svm.score(X_test,y_test)"
      ],
      "metadata": {
        "colab": {
          "base_uri": "https://localhost:8080/"
        },
        "id": "oEYlV2zDu8kn",
        "outputId": "be54a709-d280-4ebe-c9fd-b912c7949817"
      },
      "execution_count": null,
      "outputs": [
        {
          "output_type": "execute_result",
          "data": {
            "text/plain": [
              "0.45098039215686275"
            ]
          },
          "metadata": {},
          "execution_count": 86
        }
      ]
    },
    {
      "cell_type": "code",
      "source": [
        "from sklearn.tree import DecisionTreeClassifier"
      ],
      "metadata": {
        "id": "ormPnBJEvFw4"
      },
      "execution_count": null,
      "outputs": []
    },
    {
      "cell_type": "code",
      "source": [
        "dt=DecisionTreeClassifier()"
      ],
      "metadata": {
        "id": "M8to8hXZwlX_"
      },
      "execution_count": null,
      "outputs": []
    },
    {
      "cell_type": "code",
      "source": [
        "dt.fit(X_train,y_train)"
      ],
      "metadata": {
        "colab": {
          "base_uri": "https://localhost:8080/"
        },
        "id": "cIEjcpxAw1Qo",
        "outputId": "f5c3aa88-8b5c-44f5-9628-fcd63070427c"
      },
      "execution_count": null,
      "outputs": [
        {
          "output_type": "execute_result",
          "data": {
            "text/plain": [
              "DecisionTreeClassifier()"
            ]
          },
          "metadata": {},
          "execution_count": 89
        }
      ]
    },
    {
      "cell_type": "code",
      "source": [
        "dt.score(X_test,y_test)"
      ],
      "metadata": {
        "colab": {
          "base_uri": "https://localhost:8080/"
        },
        "id": "bl3W4UipxAdm",
        "outputId": "f616edb6-3fc0-4670-9c55-1b8852716999"
      },
      "execution_count": null,
      "outputs": [
        {
          "output_type": "execute_result",
          "data": {
            "text/plain": [
              "0.45098039215686275"
            ]
          },
          "metadata": {},
          "execution_count": 90
        }
      ]
    },
    {
      "cell_type": "code",
      "source": [
        "from xgboost import XGBClassifier\n",
        "\n",
        "x =XGBClassifier(max_depth=10,subsample=0.8,n_estimators=500,learning_rate=0.2,min_child_weight=1,random_state=4)\n",
        "\n",
        "x.fit(X_train,y_train)"
      ],
      "metadata": {
        "colab": {
          "base_uri": "https://localhost:8080/"
        },
        "id": "GRnqUjmixbXP",
        "outputId": "08c45a02-31b1-4ab9-c826-83d7906b39b8"
      },
      "execution_count": null,
      "outputs": [
        {
          "output_type": "execute_result",
          "data": {
            "text/plain": [
              "XGBClassifier(learning_rate=0.2, max_depth=10, n_estimators=500,\n",
              "              objective='multi:softprob', random_state=4, subsample=0.8)"
            ]
          },
          "metadata": {},
          "execution_count": 91
        }
      ]
    },
    {
      "cell_type": "code",
      "source": [
        "x.score(X_test,y_test)"
      ],
      "metadata": {
        "colab": {
          "base_uri": "https://localhost:8080/"
        },
        "id": "_Cc0U92lx09P",
        "outputId": "33bc6a95-c5dc-4bd6-8c29-320e3325c12d"
      },
      "execution_count": null,
      "outputs": [
        {
          "output_type": "execute_result",
          "data": {
            "text/plain": [
              "0.4803921568627451"
            ]
          },
          "metadata": {},
          "execution_count": 92
        }
      ]
    },
    {
      "cell_type": "code",
      "source": [
        "from sklearn.ensemble import RandomForestClassifier\n",
        "rf=RandomForestClassifier()"
      ],
      "metadata": {
        "id": "72bLnAa1DkKj"
      },
      "execution_count": null,
      "outputs": []
    },
    {
      "cell_type": "code",
      "source": [
        "rf.fit(X_train,y_train)"
      ],
      "metadata": {
        "colab": {
          "base_uri": "https://localhost:8080/"
        },
        "id": "sOwURY42EcoS",
        "outputId": "6d0c4921-4dd2-4d3c-9ac3-77b46a3b9ba8"
      },
      "execution_count": null,
      "outputs": [
        {
          "output_type": "execute_result",
          "data": {
            "text/plain": [
              "RandomForestClassifier()"
            ]
          },
          "metadata": {},
          "execution_count": 94
        }
      ]
    },
    {
      "cell_type": "code",
      "source": [
        "rf.score(X_test,y_test)"
      ],
      "metadata": {
        "colab": {
          "base_uri": "https://localhost:8080/"
        },
        "id": "ficzTktmEeFq",
        "outputId": "87de9c06-1a4c-42af-f10b-549ab06fbc51"
      },
      "execution_count": null,
      "outputs": [
        {
          "output_type": "execute_result",
          "data": {
            "text/plain": [
              "0.45098039215686275"
            ]
          },
          "metadata": {},
          "execution_count": 95
        }
      ]
    },
    {
      "cell_type": "code",
      "source": [
        "from sklearn.ensemble import BaggingClassifier"
      ],
      "metadata": {
        "id": "0jL2mL30EzJj"
      },
      "execution_count": null,
      "outputs": []
    },
    {
      "cell_type": "code",
      "source": [
        "bag_model = BaggingClassifier(\n",
        "base_estimator=DecisionTreeClassifier(),\n",
        "n_estimators=500,\n",
        "max_samples=0.8,\n",
        "bootstrap=True,\n",
        "oob_score=True,\n",
        "random_state=0\n",
        ")"
      ],
      "metadata": {
        "id": "UmRhEJPOE2hD"
      },
      "execution_count": null,
      "outputs": []
    },
    {
      "cell_type": "code",
      "source": [
        "bag_model.fit(X_train,y_train)"
      ],
      "metadata": {
        "colab": {
          "base_uri": "https://localhost:8080/"
        },
        "id": "Se9Yi-FQE4pL",
        "outputId": "c66453d5-d312-4d05-f7dd-e40d9db1657a"
      },
      "execution_count": null,
      "outputs": [
        {
          "output_type": "execute_result",
          "data": {
            "text/plain": [
              "BaggingClassifier(base_estimator=DecisionTreeClassifier(), max_samples=0.8,\n",
              "                  n_estimators=500, oob_score=True, random_state=0)"
            ]
          },
          "metadata": {},
          "execution_count": 98
        }
      ]
    },
    {
      "cell_type": "code",
      "source": [
        "bag_model.score(X_test,y_test)"
      ],
      "metadata": {
        "colab": {
          "base_uri": "https://localhost:8080/"
        },
        "id": "FVDObqFmFW36",
        "outputId": "3d1027f2-f9d5-4c58-81c4-4e882fb2f59f"
      },
      "execution_count": null,
      "outputs": [
        {
          "output_type": "execute_result",
          "data": {
            "text/plain": [
              "0.47058823529411764"
            ]
          },
          "metadata": {},
          "execution_count": 99
        }
      ]
    },
    {
      "cell_type": "code",
      "source": [
        "bag_model1 = BaggingClassifier(\n",
        "base_estimator=XGBClassifier(),\n",
        "n_estimators=500,\n",
        "max_samples=0.8,\n",
        "bootstrap=True,\n",
        "oob_score=True,\n",
        "random_state=0\n",
        ")"
      ],
      "metadata": {
        "id": "qmc1eBkTFgD8"
      },
      "execution_count": null,
      "outputs": []
    },
    {
      "cell_type": "code",
      "source": [
        "bag_model1.fit(X_train,y_train)"
      ],
      "metadata": {
        "colab": {
          "base_uri": "https://localhost:8080/"
        },
        "id": "TCb8Av6_Ftvj",
        "outputId": "c1baaca6-88b3-412e-dae6-e5e06547efc5"
      },
      "execution_count": null,
      "outputs": [
        {
          "output_type": "execute_result",
          "data": {
            "text/plain": [
              "BaggingClassifier(base_estimator=XGBClassifier(), max_samples=0.8,\n",
              "                  n_estimators=500, oob_score=True, random_state=0)"
            ]
          },
          "metadata": {},
          "execution_count": 124
        }
      ]
    },
    {
      "cell_type": "code",
      "source": [
        "bag_model1.score(X_test,y_test)"
      ],
      "metadata": {
        "colab": {
          "base_uri": "https://localhost:8080/"
        },
        "id": "VnnVuCxPFqts",
        "outputId": "87dd10dd-09b8-43a3-9395-eeb11e4667fc"
      },
      "execution_count": null,
      "outputs": [
        {
          "output_type": "execute_result",
          "data": {
            "text/plain": [
              "0.47058823529411764"
            ]
          },
          "metadata": {},
          "execution_count": 125
        }
      ]
    },
    {
      "cell_type": "code",
      "source": [
        "bag_model2 = BaggingClassifier(\n",
        "base_estimator=LogisticRegression(),\n",
        "n_estimators=500,\n",
        "max_samples=0.8,\n",
        "bootstrap=True,\n",
        "oob_score=True,\n",
        "random_state=0\n",
        ")"
      ],
      "metadata": {
        "id": "KQg-BX4nK0xl"
      },
      "execution_count": null,
      "outputs": []
    },
    {
      "cell_type": "code",
      "source": [
        "bag_model2.fit(X_train,y_train)"
      ],
      "metadata": {
        "colab": {
          "base_uri": "https://localhost:8080/"
        },
        "id": "wCMQfFdaLLwM",
        "outputId": "8ef8443b-d1bb-4cb2-c365-a1c52c4d3026"
      },
      "execution_count": null,
      "outputs": [
        {
          "output_type": "execute_result",
          "data": {
            "text/plain": [
              "BaggingClassifier(base_estimator=LogisticRegression(), max_samples=0.8,\n",
              "                  n_estimators=500, oob_score=True, random_state=0)"
            ]
          },
          "metadata": {},
          "execution_count": 109
        }
      ]
    },
    {
      "cell_type": "code",
      "source": [
        "bag_model2.score(X_test,y_test)"
      ],
      "metadata": {
        "colab": {
          "base_uri": "https://localhost:8080/"
        },
        "id": "q8QLhHa8LT9E",
        "outputId": "8bf37b01-6951-44d8-a13f-01483aa6bfe8"
      },
      "execution_count": null,
      "outputs": [
        {
          "output_type": "execute_result",
          "data": {
            "text/plain": [
              "0.47058823529411764"
            ]
          },
          "metadata": {},
          "execution_count": 110
        }
      ]
    },
    {
      "cell_type": "code",
      "source": [
        "predictions = bag_model2.predict(X_test)"
      ],
      "metadata": {
        "id": "KikQqCwELZxD"
      },
      "execution_count": null,
      "outputs": []
    },
    {
      "cell_type": "code",
      "source": [
        "print(classification_report(y_test, predictions))"
      ],
      "metadata": {
        "colab": {
          "base_uri": "https://localhost:8080/"
        },
        "id": "66LeIx_7Le1c",
        "outputId": "9578bdd2-572d-4bc9-c5a6-0135333205b1"
      },
      "execution_count": null,
      "outputs": [
        {
          "output_type": "stream",
          "name": "stdout",
          "text": [
            "              precision    recall  f1-score   support\n",
            "\n",
            "        Best       0.59      0.40      0.47        43\n",
            "      Better       0.45      0.19      0.26        27\n",
            "        Good       0.42      0.81      0.55        32\n",
            "\n",
            "    accuracy                           0.47       102\n",
            "   macro avg       0.49      0.46      0.43       102\n",
            "weighted avg       0.50      0.47      0.44       102\n",
            "\n"
          ]
        }
      ]
    },
    {
      "cell_type": "code",
      "source": [
        "from sklearn.ensemble import RandomForestClassifier\n",
        "from sklearn.svm import SVC\n",
        "import xgboost as xgb\n",
        "from sklearn.tree import DecisionTreeClassifier\n",
        "from sklearn.neighbors import KNeighborsClassifier"
      ],
      "metadata": {
        "id": "83aDjSokLlKr"
      },
      "execution_count": null,
      "outputs": []
    },
    {
      "cell_type": "code",
      "source": [
        "dtc =  DecisionTreeClassifier()\n",
        "rfc = RandomForestClassifier(n_estimators=500)\n",
        "knn =  KNeighborsClassifier()\n",
        "xgb =xgb.XGBClassifier(n_estimators=500,\n",
        "        colsample_bytree=0.5,\n",
        "        max_depth =10)"
      ],
      "metadata": {
        "id": "hMp_j-fPMnoE"
      },
      "execution_count": null,
      "outputs": []
    },
    {
      "cell_type": "code",
      "source": [
        "from sklearn.ensemble import StackingClassifier"
      ],
      "metadata": {
        "id": "bRqZTCDuMrD8"
      },
      "execution_count": null,
      "outputs": []
    },
    {
      "cell_type": "code",
      "source": [
        "clf = [('dtc',dtc),('rfc',rfc),('knn',knn),('xgb',xgb)] #list of (str, estimator)"
      ],
      "metadata": {
        "id": "6Alu8smIM8C8"
      },
      "execution_count": null,
      "outputs": []
    },
    {
      "cell_type": "code",
      "source": [
        "lr = LogisticRegression()\n",
        "stack_model = StackingClassifier( estimators = clf,final_estimator = lr)"
      ],
      "metadata": {
        "id": "bWqCXSR1M-PE"
      },
      "execution_count": null,
      "outputs": []
    },
    {
      "cell_type": "code",
      "source": [
        "stack_model.fit(X_train, y_train)"
      ],
      "metadata": {
        "colab": {
          "base_uri": "https://localhost:8080/"
        },
        "id": "nv6iaeGJNAnU",
        "outputId": "483daf7e-adf4-4e8d-dee1-3624a1693a6e"
      },
      "execution_count": null,
      "outputs": [
        {
          "output_type": "execute_result",
          "data": {
            "text/plain": [
              "StackingClassifier(estimators=[('dtc', DecisionTreeClassifier()),\n",
              "                               ('rfc',\n",
              "                                RandomForestClassifier(n_estimators=500)),\n",
              "                               ('knn', KNeighborsClassifier()),\n",
              "                               ('xgb',\n",
              "                                XGBClassifier(colsample_bytree=0.5,\n",
              "                                              max_depth=10,\n",
              "                                              n_estimators=500))],\n",
              "                   final_estimator=LogisticRegression())"
            ]
          },
          "metadata": {},
          "execution_count": 120
        }
      ]
    },
    {
      "cell_type": "code",
      "source": [
        "stack_model.score(X_test,y_test)"
      ],
      "metadata": {
        "colab": {
          "base_uri": "https://localhost:8080/"
        },
        "id": "82UrauliNF0E",
        "outputId": "5b03189e-a1f7-40dd-b0e2-5b9198f7e45e"
      },
      "execution_count": null,
      "outputs": [
        {
          "output_type": "execute_result",
          "data": {
            "text/plain": [
              "0.46078431372549017"
            ]
          },
          "metadata": {},
          "execution_count": 121
        }
      ]
    },
    {
      "cell_type": "code",
      "source": [
        "bag_model1 = BaggingClassifier(\n",
        "base_estimator=KNeighborsClassifier(),\n",
        "n_estimators=5000,\n",
        "max_samples=0.5,\n",
        "bootstrap=True,\n",
        "oob_score=True,\n",
        "random_state=0\n",
        ")"
      ],
      "metadata": {
        "id": "rU338ubDN4Cn"
      },
      "execution_count": null,
      "outputs": []
    },
    {
      "cell_type": "code",
      "source": [
        "bag_model1.fit(X_train, y_train)"
      ],
      "metadata": {
        "colab": {
          "base_uri": "https://localhost:8080/"
        },
        "id": "BtCvINXWOBKk",
        "outputId": "0808f511-2eb4-4c24-9470-03bd50f27f0a"
      },
      "execution_count": null,
      "outputs": [
        {
          "output_type": "execute_result",
          "data": {
            "text/plain": [
              "BaggingClassifier(base_estimator=KNeighborsClassifier(), max_samples=0.5,\n",
              "                  n_estimators=5000, oob_score=True, random_state=0)"
            ]
          },
          "metadata": {},
          "execution_count": 133
        }
      ]
    },
    {
      "cell_type": "code",
      "source": [
        "bag_model1.score(X_test,y_test)"
      ],
      "metadata": {
        "colab": {
          "base_uri": "https://localhost:8080/"
        },
        "id": "yzWRHOsfN9Xs",
        "outputId": "6a47c592-3354-47d0-b5a5-766f4d2b21cb"
      },
      "execution_count": null,
      "outputs": [
        {
          "output_type": "execute_result",
          "data": {
            "text/plain": [
              "0.4803921568627451"
            ]
          },
          "metadata": {},
          "execution_count": 134
        }
      ]
    },
    {
      "cell_type": "code",
      "source": [
        "predictions = bag_model1.predict(X_test)"
      ],
      "metadata": {
        "id": "kNVmsciwOlKk"
      },
      "execution_count": null,
      "outputs": []
    },
    {
      "cell_type": "code",
      "source": [
        "print(classification_report(y_test, predictions))"
      ],
      "metadata": {
        "colab": {
          "base_uri": "https://localhost:8080/"
        },
        "id": "2bWTA6mDOlNt",
        "outputId": "dbb90268-cd05-41fb-dfc1-c9858bb6ac20"
      },
      "execution_count": null,
      "outputs": [
        {
          "output_type": "stream",
          "name": "stdout",
          "text": [
            "              precision    recall  f1-score   support\n",
            "\n",
            "        Best       0.58      0.42      0.49        43\n",
            "      Better       0.45      0.19      0.26        27\n",
            "        Good       0.43      0.81      0.57        32\n",
            "\n",
            "    accuracy                           0.48       102\n",
            "   macro avg       0.49      0.47      0.44       102\n",
            "weighted avg       0.50      0.48      0.45       102\n",
            "\n"
          ]
        }
      ]
    },
    {
      "cell_type": "code",
      "source": [
        "from sklearn.ensemble import AdaBoostClassifier"
      ],
      "metadata": {
        "id": "pQUAvZLmOlTD"
      },
      "execution_count": null,
      "outputs": []
    },
    {
      "cell_type": "code",
      "source": [
        "clf = AdaBoostClassifier(n_estimators=500)"
      ],
      "metadata": {
        "id": "OFApHPfKPISX"
      },
      "execution_count": null,
      "outputs": []
    },
    {
      "cell_type": "code",
      "source": [
        "clf.fit(X_train, y_train)"
      ],
      "metadata": {
        "colab": {
          "base_uri": "https://localhost:8080/"
        },
        "id": "8jjdDxDXPKZN",
        "outputId": "a659754a-8c56-4e24-9900-e36952bd7cd8"
      },
      "execution_count": null,
      "outputs": [
        {
          "output_type": "execute_result",
          "data": {
            "text/plain": [
              "AdaBoostClassifier(n_estimators=500)"
            ]
          },
          "metadata": {},
          "execution_count": 139
        }
      ]
    },
    {
      "cell_type": "code",
      "source": [
        "clf.score(X_test,y_test)"
      ],
      "metadata": {
        "colab": {
          "base_uri": "https://localhost:8080/"
        },
        "id": "sKoKSYxdPPBF",
        "outputId": "0c4998f3-8cf5-4017-affd-d2c5d2f8fdf9"
      },
      "execution_count": null,
      "outputs": [
        {
          "output_type": "execute_result",
          "data": {
            "text/plain": [
              "0.47058823529411764"
            ]
          },
          "metadata": {},
          "execution_count": 140
        }
      ]
    },
    {
      "cell_type": "code",
      "source": [
        "from sklearn.feature_extraction.text import TfidfVectorizer"
      ],
      "metadata": {
        "id": "CGowWlvaPtrF"
      },
      "execution_count": null,
      "outputs": []
    },
    {
      "cell_type": "code",
      "source": [
        "cv = TfidfVectorizer(ngram_range=(2,3))\n",
        "traindata = cv.fit_transform(data['clean_data'])\n",
        "X = traindata\n",
        "y =data.Type"
      ],
      "metadata": {
        "id": "2VRfebFeP04t"
      },
      "execution_count": null,
      "outputs": []
    },
    {
      "cell_type": "code",
      "source": [
        "from sklearn.model_selection import train_test_split\n",
        "\n",
        "X_train, X_test, y_train, y_test = train_test_split(X, y, test_size=0.2, random_state=0)"
      ],
      "metadata": {
        "id": "0F7Yy_35P6z3"
      },
      "execution_count": null,
      "outputs": []
    },
    {
      "cell_type": "code",
      "source": [
        "clf.fit(X_train, y_train)"
      ],
      "metadata": {
        "colab": {
          "base_uri": "https://localhost:8080/"
        },
        "id": "n4pEEuSzQEC1",
        "outputId": "b663d2d0-da72-464a-984c-51ce16d8274b"
      },
      "execution_count": null,
      "outputs": [
        {
          "output_type": "execute_result",
          "data": {
            "text/plain": [
              "AdaBoostClassifier(n_estimators=500)"
            ]
          },
          "metadata": {},
          "execution_count": 157
        }
      ]
    },
    {
      "cell_type": "code",
      "source": [
        "clf.score(X_test,y_test)"
      ],
      "metadata": {
        "colab": {
          "base_uri": "https://localhost:8080/"
        },
        "id": "6d4lJo3sQHel",
        "outputId": "fd8637e9-01ea-45ec-f6a0-d8f7127c8714"
      },
      "execution_count": null,
      "outputs": [
        {
          "output_type": "execute_result",
          "data": {
            "text/plain": [
              "0.5294117647058824"
            ]
          },
          "metadata": {},
          "execution_count": 158
        }
      ]
    },
    {
      "cell_type": "code",
      "source": [
        "bag_model1.fit(X_train, y_train)"
      ],
      "metadata": {
        "colab": {
          "base_uri": "https://localhost:8080/"
        },
        "id": "-EWg3GLsQavY",
        "outputId": "00b56eda-ffc0-4f0d-e852-902a5991b25e"
      },
      "execution_count": null,
      "outputs": [
        {
          "output_type": "execute_result",
          "data": {
            "text/plain": [
              "BaggingClassifier(base_estimator=KNeighborsClassifier(), max_samples=0.5,\n",
              "                  n_estimators=5000, oob_score=True, random_state=0)"
            ]
          },
          "metadata": {},
          "execution_count": 159
        }
      ]
    },
    {
      "cell_type": "code",
      "source": [
        "bag_model1.score(X_test,y_test)"
      ],
      "metadata": {
        "colab": {
          "base_uri": "https://localhost:8080/"
        },
        "id": "X5DTLNDVQjbG",
        "outputId": "81d8360a-d874-4b41-afa1-b049dd5780b2"
      },
      "execution_count": null,
      "outputs": [
        {
          "output_type": "execute_result",
          "data": {
            "text/plain": [
              "0.5294117647058824"
            ]
          },
          "metadata": {},
          "execution_count": 160
        }
      ]
    },
    {
      "cell_type": "code",
      "source": [
        "predictions = bag_model1.predict(X_test)"
      ],
      "metadata": {
        "id": "GTkueoZ9Qtt2"
      },
      "execution_count": null,
      "outputs": []
    },
    {
      "cell_type": "code",
      "source": [
        "print(classification_report(y_test, predictions))"
      ],
      "metadata": {
        "colab": {
          "base_uri": "https://localhost:8080/"
        },
        "id": "ir6UbcklQwqt",
        "outputId": "728b47cf-b921-4bcd-be13-28b9679d6e26"
      },
      "execution_count": null,
      "outputs": [
        {
          "output_type": "stream",
          "name": "stdout",
          "text": [
            "              precision    recall  f1-score   support\n",
            "\n",
            "        Best       0.50      0.58      0.54        43\n",
            "      Better       0.47      0.26      0.33        27\n",
            "        Good       0.59      0.69      0.64        32\n",
            "\n",
            "    accuracy                           0.53       102\n",
            "   macro avg       0.52      0.51      0.50       102\n",
            "weighted avg       0.52      0.53      0.51       102\n",
            "\n"
          ]
        }
      ]
    },
    {
      "cell_type": "code",
      "source": [
        "from xgboost import XGBClassifier\n",
        "\n",
        "x =XGBClassifier(max_depth=10,subsample=0.5,n_estimators=500,learning_rate=0.2,min_child_weight=1,random_state=4)\n",
        "\n",
        "x.fit(X_train,y_train)"
      ],
      "metadata": {
        "colab": {
          "base_uri": "https://localhost:8080/"
        },
        "id": "fBNB9eWrRTGl",
        "outputId": "d6ed777d-20a0-42d7-d415-d03d4a9b6702"
      },
      "execution_count": null,
      "outputs": [
        {
          "output_type": "execute_result",
          "data": {
            "text/plain": [
              "XGBClassifier(learning_rate=0.2, max_depth=10, n_estimators=500,\n",
              "              objective='multi:softprob', random_state=4, subsample=0.5)"
            ]
          },
          "metadata": {},
          "execution_count": 163
        }
      ]
    },
    {
      "cell_type": "code",
      "source": [
        "x.score(X_test,y_test)"
      ],
      "metadata": {
        "colab": {
          "base_uri": "https://localhost:8080/"
        },
        "id": "tn9RvJrPRup9",
        "outputId": "a12d4ff1-23c3-4d2f-9ea4-d7d71aa05e7c"
      },
      "execution_count": null,
      "outputs": [
        {
          "output_type": "execute_result",
          "data": {
            "text/plain": [
              "0.49019607843137253"
            ]
          },
          "metadata": {},
          "execution_count": 164
        }
      ]
    },
    {
      "cell_type": "code",
      "source": [
        "adaboost = AdaBoostClassifier(n_estimators=500, base_estimator= rf)\n",
        "adaboost.fit(X_train,y_train)"
      ],
      "metadata": {
        "colab": {
          "base_uri": "https://localhost:8080/"
        },
        "id": "G6Q63mj3ST7N",
        "outputId": "ef2a2221-8e84-4085-b26f-96f023530c04"
      },
      "execution_count": null,
      "outputs": [
        {
          "output_type": "execute_result",
          "data": {
            "text/plain": [
              "AdaBoostClassifier(base_estimator=RandomForestClassifier(), n_estimators=500)"
            ]
          },
          "metadata": {},
          "execution_count": 167
        }
      ]
    },
    {
      "cell_type": "code",
      "source": [
        "adaboost.score(X_test,y_test)"
      ],
      "metadata": {
        "colab": {
          "base_uri": "https://localhost:8080/"
        },
        "id": "xUCZNw_uSetf",
        "outputId": "6eb9bae6-2282-408c-91e7-1770a0464702"
      },
      "execution_count": null,
      "outputs": [
        {
          "output_type": "execute_result",
          "data": {
            "text/plain": [
              "0.5"
            ]
          },
          "metadata": {},
          "execution_count": 168
        }
      ]
    },
    {
      "cell_type": "code",
      "source": [
        "stack_model.fit(X_train, y_train)"
      ],
      "metadata": {
        "colab": {
          "base_uri": "https://localhost:8080/"
        },
        "id": "cW0XBbVfTzXN",
        "outputId": "325e36fb-6858-451d-b851-3d15b5d8ecdc"
      },
      "execution_count": null,
      "outputs": [
        {
          "output_type": "execute_result",
          "data": {
            "text/plain": [
              "StackingClassifier(estimators=[('dtc', DecisionTreeClassifier()),\n",
              "                               ('rfc',\n",
              "                                RandomForestClassifier(n_estimators=500)),\n",
              "                               ('knn', KNeighborsClassifier()),\n",
              "                               ('xgb',\n",
              "                                XGBClassifier(colsample_bytree=0.5,\n",
              "                                              max_depth=10,\n",
              "                                              n_estimators=500))],\n",
              "                   final_estimator=LogisticRegression())"
            ]
          },
          "metadata": {},
          "execution_count": 169
        }
      ]
    },
    {
      "cell_type": "code",
      "source": [
        "stack_model.score(X_test,y_test)"
      ],
      "metadata": {
        "colab": {
          "base_uri": "https://localhost:8080/"
        },
        "id": "sQzWWDnyT4Uh",
        "outputId": "7780227b-350d-4574-d480-eee4bc062513"
      },
      "execution_count": null,
      "outputs": [
        {
          "output_type": "execute_result",
          "data": {
            "text/plain": [
              "0.5098039215686274"
            ]
          },
          "metadata": {},
          "execution_count": 170
        }
      ]
    },
    {
      "cell_type": "code",
      "source": [
        "final_predictions = bag_model1.predict(X_test)"
      ],
      "metadata": {
        "id": "Wd8L953XVAfe"
      },
      "execution_count": null,
      "outputs": []
    },
    {
      "cell_type": "code",
      "source": [
        "import matplotlib.pyplot as plt"
      ],
      "metadata": {
        "id": "3h8DMwk2UL5o"
      },
      "execution_count": null,
      "outputs": []
    },
    {
      "cell_type": "code",
      "source": [
        "from sklearn.metrics import confusion_matrix\n",
        "\n",
        "cm = confusion_matrix(y_test, final_predictions)\n",
        "conf_mat = pd.DataFrame(data = cm, columns = ['Predicted good', 'Predicted better','Predicted best'], index = ['Actual good', 'Actual better','Actual best'])\n",
        "sns.heatmap(conf_mat, annot = True, fmt='d', cmap=\"Purples_r\")"
      ],
      "metadata": {
        "colab": {
          "base_uri": "https://localhost:8080/",
          "height": 287
        },
        "id": "2GH6TIwCUv8H",
        "outputId": "c1641eb3-d303-4d07-aee9-92dc92998555"
      },
      "execution_count": null,
      "outputs": [
        {
          "output_type": "execute_result",
          "data": {
            "text/plain": [
              "<matplotlib.axes._subplots.AxesSubplot at 0x7f56a5c55310>"
            ]
          },
          "metadata": {},
          "execution_count": 180
        },
        {
          "output_type": "display_data",
          "data": {
            "text/plain": [
              "<Figure size 432x288 with 2 Axes>"
            ],
            "image/png": "[encoded data removed]"
          },
          "metadata": {
            "needs_background": "light"
          }
        }
      ]
    },
    {
      "cell_type": "code",
      "source": [
        "labels=[ \"Good\",\"Best\",\"Better\"]\n",
        "cm = confusion_matrix(y_test, final_predictions, labels=labels)\n",
        "print(cm)"
      ],
      "metadata": {
        "colab": {
          "base_uri": "https://localhost:8080/"
        },
        "id": "82wB5in8XRP3",
        "outputId": "1cb3371f-1bd4-4cb8-da90-e2eea0e67b03"
      },
      "execution_count": null,
      "outputs": [
        {
          "output_type": "stream",
          "name": "stdout",
          "text": [
            "[[22 10  0]\n",
            " [10 25  8]\n",
            " [ 5 15  7]]\n"
          ]
        }
      ]
    },
    {
      "cell_type": "code",
      "source": [
        "sns.heatmap(cm, annot = True, fmt='d', cmap=\"Purples_r\")"
      ],
      "metadata": {
        "colab": {
          "base_uri": "https://localhost:8080/",
          "height": 287
        },
        "id": "0a0sJgrzYEYp",
        "outputId": "409e9572-831a-4300-8611-0a99c52c968f"
      },
      "execution_count": null,
      "outputs": [
        {
          "output_type": "execute_result",
          "data": {
            "text/plain": [
              "<matplotlib.axes._subplots.AxesSubplot at 0x7f56a5b90a10>"
            ]
          },
          "metadata": {},
          "execution_count": 191
        },
        {
          "output_type": "display_data",
          "data": {
            "text/plain": [
              "<Figure size 432x288 with 2 Axes>"
            ],
            "image/png": "[encoded data removed]"
          },
          "metadata": {
            "needs_background": "light"
          }
        }
      ]
    },
    {
      "cell_type": "code",
      "source": [
        "print('Precision: %.3f' % precision_score(y_test,final_predictions,average='weighted'))"
      ],
      "metadata": {
        "colab": {
          "base_uri": "https://localhost:8080/"
        },
        "id": "FdX3p7MSVwwu",
        "outputId": "a71c7198-9873-43e1-fb78-ca7de8fbb761"
      },
      "execution_count": null,
      "outputs": [
        {
          "output_type": "stream",
          "name": "stdout",
          "text": [
            "Precision: 0.521\n"
          ]
        }
      ]
    },
    {
      "cell_type": "code",
      "source": [
        "\n",
        "print('Recall: %.3f' % recall_score(y_test,final_predictions,average='weighted'))"
      ],
      "metadata": {
        "colab": {
          "base_uri": "https://localhost:8080/"
        },
        "id": "rg2oa7wjWlGX",
        "outputId": "89216986-3247-4fb6-9e28-8734e8cba3b4"
      },
      "execution_count": null,
      "outputs": [
        {
          "output_type": "stream",
          "name": "stdout",
          "text": [
            "Recall: 0.529\n"
          ]
        }
      ]
    },
    {
      "cell_type": "code",
      "source": [
        "from sklearn.metrics import f1_score"
      ],
      "metadata": {
        "id": "jkdly5ICZukP"
      },
      "execution_count": null,
      "outputs": []
    },
    {
      "cell_type": "code",
      "source": [
        "print('F1 Score: %.3f' % f1_score(y_test,final_predictions,average='weighted'))"
      ],
      "metadata": {
        "colab": {
          "base_uri": "https://localhost:8080/"
        },
        "id": "n49c-6M5Wp_u",
        "outputId": "8e736960-85c3-413e-9296-6f2da03713d6"
      },
      "execution_count": null,
      "outputs": [
        {
          "output_type": "stream",
          "name": "stdout",
          "text": [
            "F1 Score: 0.515\n"
          ]
        }
      ]
    }
  ]
}